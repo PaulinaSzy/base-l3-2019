{
 "cells": [
  {
   "cell_type": "markdown",
   "metadata": {},
   "source": [
    "### 2018/2019 - Task List 3\n",
    "\n",
    "1. Create simple pyro model, that models any real life situation. Use Pyro [docs](http://pyro.ai/examples/intro_part_i.html). \n",
    "\n",
    " Requirements:\n",
    "\n",
    " - not weather (not same as in docs)\n",
    " - two distributions\n",
    " - one of distribution can result in more than 2 results (not Bernoulli)\n",
    "   \n",
    "   \n",
    "2. Acquire two appropriate datasets from [UCI Machine Learning Repository](https://archive.ics.uci.edu/ml/)  and provide an exploratory analysis of its content:\n",
    "\n",
    " Dataset requirements:\n",
    " \n",
    " - at least five numerical attributes attributes\n",
    " - at least 1000 instances\n",
    "\n",
    " Tasks:\n",
    "    \n",
    " - scatter plot of EACH attribute pair (matrix of plots), on diagonal we want to see histogram of given attribute ([tutorial](https://seaborn.pydata.org/tutorial/distributions.html), [docs](https://seaborn.pydata.org/generated/seaborn.PairGrid.html#seaborn.PairGrid) , [docs](https://pandas.pydata.org/pandas-docs/stable/visualization.html#scatter-matrix-plot))\n",
    " - scatter plot of each attribute pair with histograms on axes (write a function that generates plot for given attributes pair) ([link](https://seaborn.pydata.org/generated/seaborn.jointplot.html#seaborn.jointplot))\n",
    " - correlation (for EACH attribute pair, if appropriate)\n",
    " - covariances (for EACH attribute pair, if appropriate)\n",
    "\n",
    " Elaborate on results."
   ]
  },
  {
   "cell_type": "markdown",
   "metadata": {},
   "source": [
    "## Required imports"
   ]
  },
  {
   "cell_type": "code",
   "execution_count": 32,
   "metadata": {},
   "outputs": [],
   "source": [
    "%matplotlib inline\n",
    "import pyro\n",
    "import torch\n",
    "import numpy as np\n",
    "import matplotlib.pyplot as plt\n",
    "\n",
    "from matplotlib import animation, rc\n",
    "from IPython.display import HTML"
   ]
  },
  {
   "cell_type": "markdown",
   "metadata": {},
   "source": [
    "# Speeding up sampling"
   ]
  },
  {
   "cell_type": "code",
   "execution_count": 41,
   "metadata": {},
   "outputs": [
    {
     "name": "stdout",
     "output_type": "stream",
     "text": [
      "33.4 ms ± 732 µs per loop (mean ± std. dev. of 7 runs, 10 loops each)\n"
     ]
    }
   ],
   "source": [
    "%%timeit -n 10\n",
    "\n",
    "for _ in range(1000):\n",
    "    pyro.sample('variable', pyro.distributions.Bernoulli(0.3))"
   ]
  },
  {
   "cell_type": "markdown",
   "metadata": {},
   "source": [
    "### Use vectorization (sample many at once, look at docs)"
   ]
  },
  {
   "cell_type": "code",
   "execution_count": 42,
   "metadata": {},
   "outputs": [
    {
     "name": "stdout",
     "output_type": "stream",
     "text": [
      "461 µs ± 185 µs per loop (mean ± std. dev. of 7 runs, 10 loops each)\n"
     ]
    }
   ],
   "source": [
    "%%timeit -n 10\n",
    "count = 1000\n",
    "with pyro.plate(\"name\", 1000) as _:\n",
    "        data = pyro.sample('variable', pyro.distributions.Bernoulli(0.3))\n",
    "        assert(len(data)==1000)"
   ]
  },
  {
   "cell_type": "markdown",
   "metadata": {},
   "source": [
    "## Task 1"
   ]
  },
  {
   "cell_type": "code",
   "execution_count": 39,
   "metadata": {},
   "outputs": [],
   "source": [
    "## Insert solution here"
   ]
  },
  {
   "cell_type": "markdown",
   "metadata": {},
   "source": [
    "## Task 2"
   ]
  },
  {
   "cell_type": "code",
   "execution_count": 40,
   "metadata": {},
   "outputs": [],
   "source": [
    "## Insert solution here"
   ]
  },
  {
   "cell_type": "code",
   "execution_count": null,
   "metadata": {},
   "outputs": [],
   "source": []
  }
 ],
 "metadata": {
  "kernelspec": {
   "display_name": "Python 3",
   "language": "python",
   "name": "python3"
  },
  "language_info": {
   "codemirror_mode": {
    "name": "ipython",
    "version": 3
   },
   "file_extension": ".py",
   "mimetype": "text/x-python",
   "name": "python",
   "nbconvert_exporter": "python",
   "pygments_lexer": "ipython3",
   "version": "3.6.8"
  }
 },
 "nbformat": 4,
 "nbformat_minor": 2
}
